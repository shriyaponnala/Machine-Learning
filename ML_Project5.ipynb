{
  "cells": [
    {
      "cell_type": "markdown",
      "id": "25ca339c",
      "metadata": {
        "id": "25ca339c"
      },
      "source": [
        "# Classification of MNIST Data using ANN"
      ]
    },
    {
      "cell_type": "code",
      "execution_count": 38,
      "id": "c3e4a83e",
      "metadata": {
        "id": "c3e4a83e"
      },
      "outputs": [],
      "source": [
        "# Import necessary libraries\n",
        "\n",
        "import numpy as np\n",
        "import tensorflow as tf\n",
        "from tensorflow.keras.datasets import mnist\n",
        "from tensorflow.keras.utils import to_categorical\n",
        "from tensorflow.keras import layers, models\n",
        "import matplotlib.pyplot as plt\n",
        "from sklearn.metrics import accuracy_score"
      ]
    },
    {
      "cell_type": "markdown",
      "id": "41f21900",
      "metadata": {
        "id": "41f21900"
      },
      "source": [
        "# Data Loading"
      ]
    },
    {
      "cell_type": "code",
      "execution_count": 39,
      "id": "0f293eac",
      "metadata": {
        "id": "0f293eac"
      },
      "outputs": [],
      "source": [
        "# Load the MNIST data\n",
        "\n",
        "(x_train_data, y_train_data), (x_test_data, y_test_data) = mnist.load_data()"
      ]
    },
    {
      "cell_type": "markdown",
      "id": "cf194e70",
      "metadata": {
        "id": "cf194e70"
      },
      "source": [
        "# Preprocessing the Data"
      ]
    },
    {
      "cell_type": "code",
      "execution_count": 40,
      "id": "255ec4a0",
      "metadata": {
        "id": "255ec4a0"
      },
      "outputs": [],
      "source": [
        "# Preprocess the data: Normalize the visual data to the 0-1 scale.\n",
        "\n",
        "x_normalized_train = x_train_data.astype('float32') / 255\n",
        "x_normalized_test = x_test_data.astype('float32') / 255\n",
        "\n",
        "# One-hot encoding: Convert class vectors to binary class matrices\n",
        "y_train_one_hot_encoding = to_categorical(y_train_data, 10)\n",
        "y_test_one_hot_encoding = to_categorical(y_test_data, 10)"
      ]
    },
    {
      "cell_type": "markdown",
      "id": "12685033",
      "metadata": {
        "id": "12685033"
      },
      "source": [
        "# Model Implementation"
      ]
    },
    {
      "cell_type": "code",
      "execution_count": 41,
      "id": "f0a0a4b1",
      "metadata": {
        "colab": {
          "base_uri": "https://localhost:8080/"
        },
        "id": "f0a0a4b1",
        "outputId": "7f294039-668e-4bc7-9467-92de15773feb"
      },
      "outputs": [
        {
          "output_type": "stream",
          "name": "stdout",
          "text": [
            "Model: \"sequential_2\"\n",
            "_________________________________________________________________\n",
            " Layer (type)                Output Shape              Param #   \n",
            "=================================================================\n",
            " flatten_2 (Flatten)         (None, 784)               0         \n",
            "                                                                 \n",
            " dense_4 (Dense)             (None, 128)               100480    \n",
            "                                                                 \n",
            " dense_5 (Dense)             (None, 10)                1290      \n",
            "                                                                 \n",
            "=================================================================\n",
            "Total params: 101770 (397.54 KB)\n",
            "Trainable params: 101770 (397.54 KB)\n",
            "Non-trainable params: 0 (0.00 Byte)\n",
            "_________________________________________________________________\n"
          ]
        }
      ],
      "source": [
        "#Model implemented in Keras\n",
        "\n",
        "model = models.Sequential()\n",
        "model.add(layers.Flatten(input_shape=(28, 28, 1)))\n",
        "model.add(layers.Dense(128, activation='relu'))\n",
        "model.add(layers.Dense(10, activation='softmax'))\n",
        "y_prediction = model(x_normalized_train)\n",
        "model.summary()"
      ]
    },
    {
      "cell_type": "code",
      "execution_count": 42,
      "id": "45d28656",
      "metadata": {
        "scrolled": true,
        "id": "45d28656"
      },
      "outputs": [],
      "source": [
        "# Compile the model\n",
        "\n",
        "model.compile(optimizer='adam',\n",
        "              loss='categorical_crossentropy',\n",
        "              metrics=['accuracy'])"
      ]
    },
    {
      "cell_type": "markdown",
      "id": "869a94c1",
      "metadata": {
        "id": "869a94c1"
      },
      "source": [
        "# Training the model"
      ]
    },
    {
      "cell_type": "code",
      "execution_count": 43,
      "id": "9ed5a1fd",
      "metadata": {
        "colab": {
          "base_uri": "https://localhost:8080/"
        },
        "id": "9ed5a1fd",
        "outputId": "b8827e2e-24d0-4e41-dac6-12d854938495"
      },
      "outputs": [
        {
          "output_type": "stream",
          "name": "stdout",
          "text": [
            "Epoch 1/50\n",
            "1875/1875 [==============================] - 4s 2ms/step - loss: 0.2545 - accuracy: 0.9275\n",
            "Epoch 2/50\n",
            "1875/1875 [==============================] - 4s 2ms/step - loss: 0.1123 - accuracy: 0.9672\n",
            "Epoch 3/50\n",
            "1875/1875 [==============================] - 5s 2ms/step - loss: 0.0782 - accuracy: 0.9760\n",
            "Epoch 4/50\n",
            "1875/1875 [==============================] - 4s 2ms/step - loss: 0.0590 - accuracy: 0.9819\n",
            "Epoch 5/50\n",
            "1875/1875 [==============================] - 4s 2ms/step - loss: 0.0453 - accuracy: 0.9863\n",
            "Epoch 6/50\n",
            "1875/1875 [==============================] - 5s 2ms/step - loss: 0.0363 - accuracy: 0.9891\n",
            "Epoch 7/50\n",
            "1875/1875 [==============================] - 4s 2ms/step - loss: 0.0283 - accuracy: 0.9912\n",
            "Epoch 8/50\n",
            "1875/1875 [==============================] - 4s 2ms/step - loss: 0.0243 - accuracy: 0.9924\n",
            "Epoch 9/50\n",
            "1875/1875 [==============================] - 4s 2ms/step - loss: 0.0189 - accuracy: 0.9942\n",
            "Epoch 10/50\n",
            "1875/1875 [==============================] - 4s 2ms/step - loss: 0.0154 - accuracy: 0.9953\n",
            "Epoch 11/50\n",
            "1875/1875 [==============================] - 4s 2ms/step - loss: 0.0133 - accuracy: 0.9957\n",
            "Epoch 12/50\n",
            "1875/1875 [==============================] - 4s 2ms/step - loss: 0.0117 - accuracy: 0.9963\n",
            "Epoch 13/50\n",
            "1875/1875 [==============================] - 4s 2ms/step - loss: 0.0102 - accuracy: 0.9966\n",
            "Epoch 14/50\n",
            "1875/1875 [==============================] - 4s 2ms/step - loss: 0.0076 - accuracy: 0.9977\n",
            "Epoch 15/50\n",
            "1875/1875 [==============================] - 5s 3ms/step - loss: 0.0094 - accuracy: 0.9971\n",
            "Epoch 16/50\n",
            "1875/1875 [==============================] - 4s 2ms/step - loss: 0.0066 - accuracy: 0.9978\n",
            "Epoch 17/50\n",
            "1875/1875 [==============================] - 4s 2ms/step - loss: 0.0081 - accuracy: 0.9973\n",
            "Epoch 18/50\n",
            "1875/1875 [==============================] - 4s 2ms/step - loss: 0.0058 - accuracy: 0.9981\n",
            "Epoch 19/50\n",
            "1875/1875 [==============================] - 4s 2ms/step - loss: 0.0064 - accuracy: 0.9980\n",
            "Epoch 20/50\n",
            "1875/1875 [==============================] - 4s 2ms/step - loss: 0.0053 - accuracy: 0.9983\n",
            "Epoch 21/50\n",
            "1875/1875 [==============================] - 4s 2ms/step - loss: 0.0053 - accuracy: 0.9984\n",
            "Epoch 22/50\n",
            "1875/1875 [==============================] - 4s 2ms/step - loss: 0.0042 - accuracy: 0.9987\n",
            "Epoch 23/50\n",
            "1875/1875 [==============================] - 5s 3ms/step - loss: 0.0051 - accuracy: 0.9984\n",
            "Epoch 24/50\n",
            "1875/1875 [==============================] - 4s 2ms/step - loss: 0.0030 - accuracy: 0.9991\n",
            "Epoch 25/50\n",
            "1875/1875 [==============================] - 4s 2ms/step - loss: 0.0049 - accuracy: 0.9983\n",
            "Epoch 26/50\n",
            "1875/1875 [==============================] - 4s 2ms/step - loss: 0.0032 - accuracy: 0.9990\n",
            "Epoch 27/50\n",
            "1875/1875 [==============================] - 4s 2ms/step - loss: 0.0050 - accuracy: 0.9984\n",
            "Epoch 28/50\n",
            "1875/1875 [==============================] - 4s 2ms/step - loss: 0.0041 - accuracy: 0.9987\n",
            "Epoch 29/50\n",
            "1875/1875 [==============================] - 4s 2ms/step - loss: 0.0059 - accuracy: 0.9980\n",
            "Epoch 30/50\n",
            "1875/1875 [==============================] - 4s 2ms/step - loss: 0.0030 - accuracy: 0.9990\n",
            "Epoch 31/50\n",
            "1875/1875 [==============================] - 4s 2ms/step - loss: 0.0040 - accuracy: 0.9987\n",
            "Epoch 32/50\n",
            "1875/1875 [==============================] - 4s 2ms/step - loss: 0.0014 - accuracy: 0.9996\n",
            "Epoch 33/50\n",
            "1875/1875 [==============================] - 4s 2ms/step - loss: 0.0053 - accuracy: 0.9982\n",
            "Epoch 34/50\n",
            "1875/1875 [==============================] - 4s 2ms/step - loss: 0.0023 - accuracy: 0.9992\n",
            "Epoch 35/50\n",
            "1875/1875 [==============================] - 5s 2ms/step - loss: 0.0047 - accuracy: 0.9985\n",
            "Epoch 36/50\n",
            "1875/1875 [==============================] - 4s 2ms/step - loss: 0.0024 - accuracy: 0.9990\n",
            "Epoch 37/50\n",
            "1875/1875 [==============================] - 4s 2ms/step - loss: 0.0048 - accuracy: 0.9985\n",
            "Epoch 38/50\n",
            "1875/1875 [==============================] - 4s 2ms/step - loss: 0.0024 - accuracy: 0.9991\n",
            "Epoch 39/50\n",
            "1875/1875 [==============================] - 4s 2ms/step - loss: 0.0021 - accuracy: 0.9994\n",
            "Epoch 40/50\n",
            "1875/1875 [==============================] - 4s 2ms/step - loss: 0.0046 - accuracy: 0.9986\n",
            "Epoch 41/50\n",
            "1875/1875 [==============================] - 4s 2ms/step - loss: 0.0024 - accuracy: 0.9991\n",
            "Epoch 42/50\n",
            "1875/1875 [==============================] - 4s 2ms/step - loss: 0.0023 - accuracy: 0.9992\n",
            "Epoch 43/50\n",
            "1875/1875 [==============================] - 4s 2ms/step - loss: 0.0041 - accuracy: 0.9988\n",
            "Epoch 44/50\n",
            "1875/1875 [==============================] - 5s 2ms/step - loss: 0.0020 - accuracy: 0.9994\n",
            "Epoch 45/50\n",
            "1875/1875 [==============================] - 4s 2ms/step - loss: 0.0028 - accuracy: 0.9990\n",
            "Epoch 46/50\n",
            "1875/1875 [==============================] - 4s 2ms/step - loss: 0.0024 - accuracy: 0.9992\n",
            "Epoch 47/50\n",
            "1875/1875 [==============================] - 4s 2ms/step - loss: 0.0034 - accuracy: 0.9987\n",
            "Epoch 48/50\n",
            "1875/1875 [==============================] - 4s 2ms/step - loss: 0.0019 - accuracy: 0.9995\n",
            "Epoch 49/50\n",
            "1875/1875 [==============================] - 4s 2ms/step - loss: 0.0031 - accuracy: 0.9990\n",
            "Epoch 50/50\n",
            "1875/1875 [==============================] - 5s 2ms/step - loss: 0.0028 - accuracy: 0.9988\n"
          ]
        }
      ],
      "source": [
        "# Train the model\n",
        "\n",
        "history = {}\n",
        "with tf.device('/gpu:0'):\n",
        "    history = model.fit(x_normalized_train, y_train_one_hot_encoding, epochs=50, batch_size=32)"
      ]
    },
    {
      "cell_type": "markdown",
      "id": "ad43d693",
      "metadata": {
        "id": "ad43d693"
      },
      "source": [
        "\n",
        "# Plotting Training loss with epochs"
      ]
    },
    {
      "cell_type": "code",
      "execution_count": 44,
      "id": "fa81fa58",
      "metadata": {
        "colab": {
          "base_uri": "https://localhost:8080/",
          "height": 452
        },
        "id": "fa81fa58",
        "outputId": "0848db75-f67c-44fc-fb82-407ed078cee2"
      },
      "outputs": [
        {
          "output_type": "display_data",
          "data": {
            "text/plain": [
              "<Figure size 640x480 with 1 Axes>"
            ],
            "image/png": "[encoded data removed]"
          },
          "metadata": {}
        }
      ],
      "source": [
        "#Plotting loss\n",
        "\n",
        "plt.plot(history.history['loss'],'b.')\n",
        "plt.title(\"Training loss vs Epochs\")\n",
        "plt.show()"
      ]
    },
    {
      "cell_type": "markdown",
      "id": "7e7409dd",
      "metadata": {
        "id": "7e7409dd"
      },
      "source": [
        "# Evaluation on Test Data"
      ]
    },
    {
      "cell_type": "code",
      "execution_count": 45,
      "id": "f5680033",
      "metadata": {
        "colab": {
          "base_uri": "https://localhost:8080/"
        },
        "id": "f5680033",
        "outputId": "38dade87-9433-4afc-b65e-4f1171a6e186"
      },
      "outputs": [
        {
          "output_type": "stream",
          "name": "stdout",
          "text": [
            "313/313 [==============================] - 0s 1ms/step\n"
          ]
        }
      ],
      "source": [
        "#Predicting on normalised test data\n",
        "\n",
        "y_prediction = model.predict(x_normalized_test)"
      ]
    },
    {
      "cell_type": "code",
      "execution_count": 47,
      "id": "615b85dd",
      "metadata": {
        "id": "615b85dd"
      },
      "outputs": [],
      "source": [
        "#Converting Probability vector to one hot encoding\n",
        "\n",
        "idx = np.argmax(y_prediction, axis=-1)\n",
        "y_prediction = np.zeros( y_prediction.shape )\n",
        "y_prediction[ np.arange(y_prediction.shape[0]), idx] = 1"
      ]
    },
    {
      "cell_type": "code",
      "execution_count": 49,
      "id": "2b1e52ee",
      "metadata": {
        "colab": {
          "base_uri": "https://localhost:8080/"
        },
        "id": "2b1e52ee",
        "outputId": "c2695d47-6abe-435c-abc2-8419a878226a"
      },
      "outputs": [
        {
          "output_type": "stream",
          "name": "stdout",
          "text": [
            "Accuracy of the model is 0.9791%\n"
          ]
        }
      ],
      "source": [
        "#Accuracy Score\n",
        "\n",
        "print(f\"Accuracy of the model is {accuracy_score(y_prediction,y_test_one_hot_encoding)%100}%\")"
      ]
    }
  ],
  "metadata": {
    "kernelspec": {
      "display_name": "eren",
      "language": "python",
      "name": "eren"
    },
    "language_info": {
      "codemirror_mode": {
        "name": "ipython",
        "version": 3
      },
      "file_extension": ".py",
      "mimetype": "text/x-python",
      "name": "python",
      "nbconvert_exporter": "python",
      "pygments_lexer": "ipython3",
      "version": "3.9.16"
    },
    "colab": {
      "provenance": []
    }
  },
  "nbformat": 4,
  "nbformat_minor": 5
}