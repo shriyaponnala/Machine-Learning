{
 "cells": [
  {
   "cell_type": "markdown",
   "metadata": {},
   "source": [
    "Before you turn this problem in, make sure everything runs as expected. First, **restart the kernel** (in the menubar, select Kernel$\\rightarrow$Restart) and then **run all cells** (in the menubar, select Cell$\\rightarrow$Run All).\n",
    "\n",
    "Make sure you fill in any place that says `YOUR CODE HERE` or \"YOUR ANSWER HERE\", as well as your name and collaborators below:\n",
    "\n",
    "You may remove `raise NotImplementedError()` line and write your own code."
   ]
  },
  {
   "cell_type": "code",
   "execution_count": null,
   "metadata": {},
   "outputs": [],
   "source": [
    "NAME = \"Shriya Reddy Ponnala\""
   ]
  },
  {
   "cell_type": "markdown",
   "metadata": {},
   "source": [
    "---"
   ]
  },
  {
   "cell_type": "markdown",
   "metadata": {
    "deletable": false,
    "editable": false,
    "nbgrader": {
     "cell_type": "markdown",
     "checksum": "d4e1d1fad5ae837467d1e16be27827e9",
     "grade": false,
     "grade_id": "cell-69a6b761c910db59",
     "locked": true,
     "schema_version": 3,
     "solution": false,
     "task": false
    }
   },
   "source": [
    "# Assignment 1"
   ]
  },
  {
   "cell_type": "markdown",
   "metadata": {
    "deletable": false,
    "editable": false,
    "nbgrader": {
     "cell_type": "markdown",
     "checksum": "1d5ffcc1ad06a3faf4e79c063a2b7149",
     "grade": false,
     "grade_id": "cell-d017c934fc0ae3a7",
     "locked": true,
     "schema_version": 3,
     "solution": false,
     "task": false
    }
   },
   "source": [
    "## Q1. Task Description"
   ]
  },
  {
   "cell_type": "markdown",
   "metadata": {
    "deletable": false,
    "editable": false,
    "nbgrader": {
     "cell_type": "markdown",
     "checksum": "34071577192a5673aa8736f087d42daf",
     "grade": false,
     "grade_id": "cell-26d59aeff72e08da",
     "locked": true,
     "schema_version": 3,
     "solution": false,
     "task": false
    }
   },
   "source": [
    "### 1. Data Generation:\n",
    "   - Generate two normal distributions each of size 30,000 with feature dimension=100. (Hint: Shape(2*30000, 100))\n",
    "   - You may choose arbitrary mean and standard deviation.\n",
    "   - Label the first set of feature vectors as \"+1\" and the second set of feature vectors as either \"-1\" or \"0.\"\n",
    "\n",
    "     \n",
    "![alt text](gaussian_bimodal.png)"
   ]
  },
  {
   "cell_type": "code",
   "execution_count": 421,
   "metadata": {
    "deletable": false,
    "nbgrader": {
     "cell_type": "code",
     "checksum": "75475e1a5a876ae536b487f30131fda9",
     "grade": true,
     "grade_id": "cell-3e53b094549fc43b",
     "locked": false,
     "points": 10,
     "schema_version": 3,
     "solution": true,
     "task": false
    }
   },
   "outputs": [],
   "source": [
    "# YOUR CODE HERE\n",
    "import numpy as np\n",
    "size = 30000\n",
    "dimension = 100\n",
    "distribution_1 = np.random.normal(0, 1, (size, dimension))\n",
    "distribution_2 = np.random.normal(4, 6, (size, dimension))\n",
    "labels_1 = np.ones(size) \n",
    "labels_2 = -np.ones(size) \n",
    "distribution = np.concatenate((distribution_1, distribution_2))\n",
    "labels = np.concatenate((labels_1, labels_2))"
   ]
  },
  {
   "cell_type": "code",
   "execution_count": 422,
   "metadata": {},
   "outputs": [],
   "source": [
    "input = np.concatenate((distribution.reshape(60000, 100), labels.reshape(-1, 1)), axis=1)"
   ]
  },
  {
   "cell_type": "markdown",
   "metadata": {
    "deletable": false,
    "editable": false,
    "nbgrader": {
     "cell_type": "markdown",
     "checksum": "7c0f513197bb21a671dd6360285dd470",
     "grade": false,
     "grade_id": "cell-2396855d1ce43de8",
     "locked": true,
     "schema_version": 3,
     "solution": false,
     "task": false
    }
   },
   "source": [
    "### 2. Data Splitting\n",
    "- Split the generated data into training, validation and test sets in 8:1:1 ratio.\n",
    "- You are expected to write the code from scratch. (i.e. Do not use train_test_split function from sklearn)"
   ]
  },
  {
   "cell_type": "code",
   "execution_count": 423,
   "metadata": {
    "deletable": false,
    "nbgrader": {
     "cell_type": "code",
     "checksum": "6b88f1edd128e8e668e91b77d522bc73",
     "grade": true,
     "grade_id": "cell-07bca55242c6add3",
     "locked": false,
     "points": 10,
     "schema_version": 3,
     "solution": true,
     "task": false
    }
   },
   "outputs": [],
   "source": [
    "# YOUR CODE HERE\n",
    "np.random.shuffle(input)\n",
    "train_info = input[:48000,:100]\n",
    "train_label = input[:48000,100:]\n",
    "validation_info = input[48000:54000,:100]\n",
    "label_validation = input[48000:54000,100:]\n",
    "test_info = input[54000:,:100]\n",
    "test_label = input[54000:,100:]"
   ]
  },
  {
   "cell_type": "markdown",
   "metadata": {
    "deletable": false,
    "editable": false,
    "nbgrader": {
     "cell_type": "markdown",
     "checksum": "874cd58cc22c38052eb0325903dd1dd8",
     "grade": false,
     "grade_id": "cell-87cec8097abc0d13",
     "locked": true,
     "schema_version": 3,
     "solution": false,
     "task": false
    }
   },
   "source": [
    "### 3. Classifier Implementation\n",
    "- Implement Linear Classifiers using three different methods. (i.e. Write code from scratch. Refer lecture slides)\n",
    "  - Random Method\n",
    "  - Perceptron Method\n",
    "  - Gradient Descent"
   ]
  },
  {
   "cell_type": "code",
   "execution_count": 424,
   "metadata": {
    "deletable": false,
    "nbgrader": {
     "cell_type": "code",
     "checksum": "9124a4169ec297722feaf5492e094b56",
     "grade": true,
     "grade_id": "cell-5dc7f3ee5f957b96",
     "locked": false,
     "points": 20,
     "schema_version": 3,
     "solution": true,
     "task": false
    }
   },
   "outputs": [],
   "source": [
    "# YOUR CODE HERE\n",
    "def implementRandomMethod(input,label,sample_size):\n",
    "    coefficient = np.random.random((sample_size,100))\n",
    "    coefficient_bias = np.random.random((sample_size,1))\n",
    "    expected_labels = np.matmul(coefficient,input.T) + coefficient_bias\n",
    "    for i in range(expected_labels.shape[1]):\n",
    "        for j in range(expected_labels.shape[0]):\n",
    "              if(expected_labels[j][i] >= 0):\n",
    "                expected_labels[j][i] = 1\n",
    "              else:\n",
    "                expected_labels[j][i] = -1\n",
    "        random_best_coefficient = []\n",
    "        random_best_coefficient_bias = []\n",
    "        error = input.shape[0]\n",
    "        for i in range(sample_size):\n",
    "            temp_error = (expected_labels[i].reshape(-1,1) == label)\n",
    "            temp_error = np.count_nonzero(temp_error == False)\n",
    "            if(temp_error < error):\n",
    "                random_best_coefficient = coefficient[i]\n",
    "                random_best_coefficient_bias = coefficient_bias[i]\n",
    "    return random_best_coefficient.reshape(-1,1),random_best_coefficient_bias.reshape(-1,1)"
   ]
  },
  {
   "cell_type": "code",
   "execution_count": 425,
   "metadata": {},
   "outputs": [],
   "source": [
    "def implementRandomMethodPredict(input,random_coefficient,random_coefficient_bias):\n",
    "    expected_labels = np.matmul(input,random_coefficient) + random_coefficient_bias\n",
    "    for i in range(expected_labels.shape[0]):\n",
    "        if(expected_labels[i] >= 0):\n",
    "            expected_labels[i] = 1\n",
    "        else:\n",
    "            expected_labels[i]= -1\n",
    "    return expected_labels"
   ]
  },
  {
   "cell_type": "code",
   "execution_count": 426,
   "metadata": {
    "deletable": false,
    "nbgrader": {
     "cell_type": "code",
     "checksum": "a2b4b4fba3fbe9540427b5a4bce6f5ba",
     "grade": true,
     "grade_id": "cell-9f14a9d375d7dac3",
     "locked": false,
     "points": 20,
     "schema_version": 3,
     "solution": true,
     "task": false
    },
    "scrolled": true
   },
   "outputs": [],
   "source": [
    "coefficient,coeff_bias = implementRandomMethod(train_info,train_label,5)"
   ]
  },
  {
   "cell_type": "code",
   "execution_count": 427,
   "metadata": {},
   "outputs": [],
   "source": [
    "test_random_expected = implementRandomMethodPredict(test_info,coefficient,coefficient_bias)"
   ]
  },
  {
   "cell_type": "code",
   "execution_count": 428,
   "metadata": {},
   "outputs": [
    {
     "data": {
      "text/plain": [
       "(6000, 1)"
      ]
     },
     "execution_count": 428,
     "metadata": {},
     "output_type": "execute_result"
    }
   ],
   "source": [
    "test_random_expected.shape"
   ]
  },
  {
   "cell_type": "code",
   "execution_count": 429,
   "metadata": {},
   "outputs": [],
   "source": [
    "def implementPerceptronMethod(input,label,iterations,lr):\n",
    "    perceptron_coefficient = np.zeros((1,100))\n",
    "    perceptron_coefficient_bias = np.zeros(1)\n",
    "    for t in range(iterations):\n",
    "        for i in range(input.shape[0]):\n",
    "            print(perceptron_coefficient)\n",
    "            expected_labels = np.matmul(input[i].reshape(1,100),perceptron_coefficient.T) + perceptron_coefficient_bias\n",
    "            if(expected_labels >= 0):\n",
    "                expected_labels = 1\n",
    "            else:\n",
    "                expected_labels = -1\n",
    "            error = label[i] - expected_labels\n",
    "            print(error)\n",
    "            perceptron_coefficient = perceptron_coefficient + lr*error*(input[i].reshape(1,100))\n",
    "            print(perceptron_coefficient)\n",
    "            perceptron_coefficient_bias = perceptron_coefficient_bias + lr*error\n",
    "    return perceptron_coefficient.reshape(1,-1),perceptron_coefficient_bias"
   ]
  },
  {
   "cell_type": "code",
   "execution_count": 430,
   "metadata": {},
   "outputs": [],
   "source": [
    "def implementPerceptronMethod(input,label,iterations):\n",
    "    perceptron_coefficient = np.zeros((1,100))\n",
    "    perceptron_coefficient_bias = np.zeros(1)\n",
    "    for t in range(iterations):\n",
    "        for i in range(input.shape[0]):\n",
    "            expected_labels = np.matmul(input[i].reshape(1,100),perceptron_coefficient.T) + perceptron_coefficient_bias\n",
    "            if(expected_labels*label[i] <= 0):\n",
    "                perceptron_coefficient+=(label[i]*input[i].reshape(1,100))\n",
    "                perceptron_coefficient_bias += label[i]\n",
    "      \n",
    "    return perceptron_coefficient.reshape(1,-1),perceptron_coefficient_bias"
   ]
  },
  {
   "cell_type": "code",
   "execution_count": 431,
   "metadata": {},
   "outputs": [],
   "source": [
    "perceptron_coefficient,perceptron_bias = implementPerceptronMethod(train_info,train_label,20)"
   ]
  },
  {
   "cell_type": "code",
   "execution_count": 432,
   "metadata": {},
   "outputs": [],
   "source": [
    "def implementPerceptronMethodPredict(input,perceptron_coeff,percept_bias):\n",
    "    expected_labels = np.matmul(input,perceptron_coeff.T) + percept_bias\n",
    "    for i in range(expected_labels.shape[0]):\n",
    "        if(expected_labels[i] >= 0):\n",
    "            expected_labels[i] = 1\n",
    "        else:\n",
    "            expected_labels[i]= -1\n",
    "        return expected_labels.reshape(-1,1)"
   ]
  },
  {
   "cell_type": "code",
   "execution_count": 433,
   "metadata": {},
   "outputs": [],
   "source": [
    "test_perceptronmethod_predict = implementPerceptronMethodPredict(test_info,perceptron_coefficient,perceptron_bias)"
   ]
  },
  {
   "cell_type": "code",
   "execution_count": 434,
   "metadata": {
    "deletable": false,
    "nbgrader": {
     "cell_type": "code",
     "checksum": "c460fdd678caf0a0eec35fccef2e90e5",
     "grade": true,
     "grade_id": "cell-d785f958fbeaf1d2",
     "locked": false,
     "points": 20,
     "schema_version": 3,
     "solution": true,
     "task": false
    }
   },
   "outputs": [],
   "source": [
    "# YOUR CODE HERE\n",
    "def implementGradientDescentMethod(input,label,iterations,learning_rate):\n",
    "  teta = np.random.rand(100 + 1, 1)\n",
    "  test_sampleData = input.shape[0]\n",
    "\n",
    "  for t in range(iterations):\n",
    "    expected = np.matmul(input, teta[1:].reshape(-1,1)) + teta[0]\n",
    "    errors = expected - label\n",
    "    # Calculate gradients\n",
    "    gradient = np.matmul(input.T, errors) / test_sampleData\n",
    "\n",
    "    # Update model parameters using gradient descent\n",
    "    teta[1:] -= learning_rate * gradient\n",
    "    teta[0] -= learning_rate * np.sum(errors) / test_sampleData\n",
    "    # print(perceptron_coeff)\n",
    "  return teta[1:].reshape(1,-1),teta[0]"
   ]
  },
  {
   "cell_type": "code",
   "execution_count": 435,
   "metadata": {},
   "outputs": [],
   "source": [
    "gradient_descent_coefficient,gradient_descent_coefficient_bias = implementGradientDescentMethod(train_info,train_label,50,1e-2)"
   ]
  },
  {
   "cell_type": "code",
   "execution_count": 436,
   "metadata": {},
   "outputs": [
    {
     "data": {
      "text/plain": [
       "array([[2.81048085e+42, 2.84984119e+42, 2.88395203e+42, 2.88078913e+42,\n",
       "        2.89037585e+42, 2.89680952e+42, 2.84874224e+42, 2.81128671e+42,\n",
       "        2.87766544e+42, 2.81671019e+42, 2.85256329e+42, 2.86785163e+42,\n",
       "        2.81324895e+42, 2.83417580e+42, 2.83659265e+42, 2.82952275e+42,\n",
       "        2.87703973e+42, 2.83140170e+42, 2.89792330e+42, 2.85394268e+42,\n",
       "        2.83057819e+42, 2.83158080e+42, 2.84425512e+42, 2.84625231e+42,\n",
       "        2.85468515e+42, 2.82410660e+42, 2.88717663e+42, 2.85470582e+42,\n",
       "        2.79517360e+42, 2.82170695e+42, 2.86594776e+42, 2.85606464e+42,\n",
       "        2.85429323e+42, 2.85409931e+42, 2.84126246e+42, 2.83848835e+42,\n",
       "        2.86633834e+42, 2.83743032e+42, 2.84624059e+42, 2.85540254e+42,\n",
       "        2.87988269e+42, 2.88331185e+42, 2.84896256e+42, 2.87277128e+42,\n",
       "        2.88448657e+42, 2.85975155e+42, 2.87349702e+42, 2.79065986e+42,\n",
       "        2.82017598e+42, 2.88728357e+42, 2.84290299e+42, 2.83672367e+42,\n",
       "        2.83537585e+42, 2.85683535e+42, 2.87240371e+42, 2.81187660e+42,\n",
       "        2.89081053e+42, 2.82563818e+42, 2.85175045e+42, 2.76599284e+42,\n",
       "        2.87660834e+42, 2.75418321e+42, 2.84950187e+42, 2.86303819e+42,\n",
       "        2.79887538e+42, 2.84023124e+42, 2.84278172e+42, 2.82502126e+42,\n",
       "        2.85260153e+42, 2.83377390e+42, 2.87811385e+42, 2.84477322e+42,\n",
       "        2.86384369e+42, 2.86437466e+42, 2.80766550e+42, 2.84824577e+42,\n",
       "        2.83987429e+42, 2.81805560e+42, 2.86006108e+42, 2.85066186e+42,\n",
       "        2.82347781e+42, 2.80027505e+42, 2.86206722e+42, 2.81807830e+42,\n",
       "        2.82522373e+42, 2.80918602e+42, 2.82732532e+42, 2.83879196e+42,\n",
       "        2.86433296e+42, 2.83830131e+42, 2.79216467e+42, 2.81803575e+42,\n",
       "        2.87312756e+42, 2.85229610e+42, 2.84651683e+42, 2.81860143e+42,\n",
       "        2.84439384e+42, 2.88425856e+42, 2.84665011e+42, 2.86077793e+42]])"
      ]
     },
     "execution_count": 436,
     "metadata": {},
     "output_type": "execute_result"
    }
   ],
   "source": [
    "gradient_descent_coefficient"
   ]
  },
  {
   "cell_type": "code",
   "execution_count": 437,
   "metadata": {},
   "outputs": [
    {
     "data": {
      "text/plain": [
       "array([6.95225124e+41])"
      ]
     },
     "execution_count": 437,
     "metadata": {},
     "output_type": "execute_result"
    }
   ],
   "source": [
    "gradient_descent_coefficient_bias"
   ]
  },
  {
   "cell_type": "code",
   "execution_count": 438,
   "metadata": {},
   "outputs": [],
   "source": [
    "def implementGradientDescentMethodPredict(input,grad_coefficient,grad_bias):\n",
    "    expected_labels = np.matmul(input,grad_coefficient.T) + grad_bias\n",
    "    for i in range(expected_labels.shape[0]):\n",
    "        if(expected_labels[i] >= 0):\n",
    "            expected_labels[i] = 1\n",
    "        else:\n",
    "            expected_labels[i]= -1\n",
    "    return expected_labels.reshape(-1,1)"
   ]
  },
  {
   "cell_type": "code",
   "execution_count": 439,
   "metadata": {},
   "outputs": [],
   "source": [
    "test_gradientMethod_prediction = implementGradientDescentMethodPredict(test_info,gradient_descent_coefficient,gradient_descent_coefficient_bias)"
   ]
  },
  {
   "cell_type": "markdown",
   "metadata": {
    "deletable": false,
    "editable": false,
    "nbgrader": {
     "cell_type": "markdown",
     "checksum": "10c6379f3912f3e8f4c726b058bd990a",
     "grade": false,
     "grade_id": "cell-78578cf2183745d4",
     "locked": true,
     "schema_version": 3,
     "solution": false,
     "task": false
    }
   },
   "source": [
    "### 4. Performance Evaluation\n",
    "- Evaluate the performance of each method on the test set using various evaluation metrics discussed in the class, such as accuracy, precision, recall, F1-score. (You are expected to write the code from scratch for each of the metrics.)"
   ]
  },
  {
   "cell_type": "code",
   "execution_count": 440,
   "metadata": {
    "deletable": false,
    "nbgrader": {
     "cell_type": "code",
     "checksum": "8988d9cdb01045ee5857eb2aa18aec07",
     "grade": true,
     "grade_id": "cell-17cf1c1fc903c5fd",
     "locked": false,
     "points": 10,
     "schema_version": 3,
     "solution": true,
     "task": false
    }
   },
   "outputs": [],
   "source": [
    "# YOUR CODE HERE\n",
    "def accuracyMethod(valid_labels,expected_labels):\n",
    "    accurate_expectations = 0\n",
    "    total_expectations = len(valid_labels)\n",
    "    for valid_label, expected_label in zip(valid_labels, expected_labels):\n",
    "        if valid_label == expected_label:\n",
    "            accurate_expectations += 1\n",
    "    accuracy_measurements = (accurate_expectations / total_expectations ) * 100\n",
    "    return accuracy_measurements\n",
    "\n",
    "def precisionMethod(valid_labels,expected_labels):\n",
    "    accurate_positives = 0\n",
    "    inaccurate_positives = 0\n",
    "    for valid_label,expected_label  in zip(valid_labels,expected_labels):\n",
    "        if valid_label == 1 and expected_label  == 1:\n",
    "            accurate_positives += 1\n",
    "        elif valid_label == -1 and expected_label == 1:\n",
    "             inaccurate_positives += 1\n",
    "    precision_measurements = accurate_positives / (accurate_positives + inaccurate_positives)\n",
    "    return precision_measurements\n",
    "\n",
    "def recallMethod(valid_labels,expected_labels):\n",
    "    accurate_positives = 0\n",
    "    inaccurate_positives = 0\n",
    "    for valid_label,expected_label  in zip(valid_labels,expected_labels):\n",
    "         if valid_label == 1 and expected_label  == 1:\n",
    "            accurate_positives += 1\n",
    "         elif valid_label == 1 and expected_label == -1:\n",
    "             inaccurate_positives += 1\n",
    "    recall_measurements = accurate_positives / (accurate_positives + inaccurate_positives)\n",
    "    return recall_measurements\n",
    "\n",
    "def F1_score(valid_labels,expected_labels):\n",
    "  precision = precisionMethod(valid_labels,expected_labels)\n",
    "  recall = recallMethod(valid_labels,expected_labels)\n",
    "  f1_score = 2 * (precision * recall) / (precision + recall)\n",
    "  return f1_score"
   ]
  },
  {
   "cell_type": "code",
   "execution_count": 441,
   "metadata": {
    "scrolled": true
   },
   "outputs": [
    {
     "name": "stdout",
     "output_type": "stream",
     "text": [
      "Accuracy is : 25.650000000000002\n",
      "Precision is : 0.511295681063123\n",
      "Recall is : 0.33981011260763966\n",
      "F1 Score is : 0.4082769598089932\n"
     ]
    }
   ],
   "source": [
    "# Random Method\n",
    "print(f\"Accuracy is : {accuracyMethod(test_random_expected,test_label)}\")\n",
    "print(f\"Precision is : {precisionMethod(test_random_expected,test_label)}\")\n",
    "print(f\"Recall is : {recallMethod(test_random_expected,test_label)}\")\n",
    "print(f\"F1 Score is : {F1_score(test_random_expected,test_label)}\")"
   ]
  },
  {
   "cell_type": "code",
   "execution_count": 442,
   "metadata": {},
   "outputs": [
    {
     "name": "stdout",
     "output_type": "stream",
     "text": [
      "Accuracy is : 0.016666666666666666\n",
      "Precision is : 1.0\n",
      "Recall is : 1.0\n",
      "F1 Score is : 1.0\n"
     ]
    }
   ],
   "source": [
    "print(f\"Accuracy is : {accuracyMethod(test_perceptronmethod_predict,test_label)}\")\n",
    "print(f\"Precision is : {precisionMethod(test_perceptronmethod_predict,test_label)}\")\n",
    "print(f\"Recall is : {recallMethod(test_perceptronmethod_predict,test_label)}\")\n",
    "print(f\"F1 Score is : {F1_score(test_perceptronmethod_predict,test_label)}\")"
   ]
  },
  {
   "cell_type": "code",
   "execution_count": 443,
   "metadata": {},
   "outputs": [
    {
     "name": "stdout",
     "output_type": "stream",
     "text": [
      "Accuracy is : 26.35\n",
      "Precision is : 0.5252491694352159\n",
      "Recall is : 0.34587617589148983\n",
      "F1 Score is : 0.41709537000395724\n"
     ]
    }
   ],
   "source": [
    "# Gradient Descent Method\n",
    "print(f\"Accuracy is : {accuracyMethod(test_gradientMethod_prediction,test_label)}\")\n",
    "print(f\"Precision is : {precisionMethod(test_gradientMethod_prediction,test_label)}\")\n",
    "print(f\"Recall is : {recallMethod(test_gradientMethod_prediction,test_label)}\")\n",
    "print(f\"F1 Score is : {F1_score(test_gradientMethod_prediction,test_label)}\")"
   ]
  },
  {
   "cell_type": "markdown",
   "metadata": {
    "deletable": false,
    "editable": false,
    "nbgrader": {
     "cell_type": "markdown",
     "checksum": "087335fa953d24fe56219e43b6683849",
     "grade": false,
     "grade_id": "cell-a91cdce5cabe69a9",
     "locked": true,
     "schema_version": 3,
     "solution": false,
     "task": false
    }
   },
   "source": [
    "### 5. Determine the best method\n",
    "- Analyze the evaluation results to determine which method is the best fit for solving this problem based on the chosen evaluation metrics. (Write your reasoning)"
   ]
  },
  {
   "cell_type": "code",
   "execution_count": null,
   "metadata": {
    "deletable": false,
    "nbgrader": {
     "cell_type": "code",
     "checksum": "5ad194c3e1d933c3b16e97e3fdd0bf25",
     "grade": true,
     "grade_id": "cell-fc48a904a88dbabd",
     "locked": false,
     "points": 10,
     "schema_version": 3,
     "solution": true,
     "task": false
    }
   },
   "outputs": [],
   "source": [
    "# YOUR CODE HERE\n",
    "F1 score determines the classifier effectiveness.since,perceptron has hightest F1 score which is 1. Therefore, it is the best method."
   ]
  },
  {
   "cell_type": "markdown",
   "metadata": {
    "deletable": false,
    "editable": false,
    "nbgrader": {
     "cell_type": "markdown",
     "checksum": "20c53f2aecfee94042d461de4c917ce7",
     "grade": false,
     "grade_id": "cell-fdc603eaad36e5e6",
     "locked": true,
     "schema_version": 3,
     "solution": false,
     "task": false
    }
   },
   "source": [
    "> By following these steps, you can systematically generate, split, implement, and evaluate the performance of different linear classification methods to identify the most suitable one for your specific problem."
   ]
  },
  {
   "cell_type": "markdown",
   "metadata": {
    "deletable": false,
    "editable": false,
    "nbgrader": {
     "cell_type": "markdown",
     "checksum": "b9ebf6cfa87902c9dcec1e5525d9f30e",
     "grade": false,
     "grade_id": "cell-29b516059de95027",
     "locked": true,
     "schema_version": 3,
     "solution": false,
     "task": false
    }
   },
   "source": [
    "## Extra Credits\n",
    "- Implement cross validation on the best method and show the results. (Refer the lecture slides for more information)"
   ]
  },
  {
   "cell_type": "code",
   "execution_count": null,
   "metadata": {
    "deletable": false,
    "nbgrader": {
     "cell_type": "code",
     "checksum": "de01db0e422cfc1c44737327e3ce20c7",
     "grade": true,
     "grade_id": "cell-7622b24794230687",
     "locked": false,
     "points": 0,
     "schema_version": 3,
     "solution": true,
     "task": false
    }
   },
   "outputs": [],
   "source": [
    "# YOUR CODE HERE\n",
    "raise NotImplementedError()"
   ]
  }
 ],
 "metadata": {
  "kernelspec": {
   "display_name": "Python 3 (ipykernel)",
   "language": "python",
   "name": "python3"
  },
  "language_info": {
   "codemirror_mode": {
    "name": "ipython",
    "version": 3
   },
   "file_extension": ".py",
   "mimetype": "text/x-python",
   "name": "python",
   "nbconvert_exporter": "python",
   "pygments_lexer": "ipython3",
   "version": "3.11.4"
  }
 },
 "nbformat": 4,
 "nbformat_minor": 4
}
