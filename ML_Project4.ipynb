{
 "cells": [
  {
   "cell_type": "code",
   "execution_count": 107,
   "metadata": {
    "_cell_guid": "b1076dfc-b9ad-4769-8c92-a6c4dae69d19",
    "_uuid": "8f2839f25d086af736a60e9eeb907d3b93b6e0e5",
    "execution": {
     "iopub.execute_input": "2023-10-26T03:04:29.030720Z",
     "iopub.status.busy": "2023-10-26T03:04:29.030343Z",
     "iopub.status.idle": "2023-10-26T03:04:29.047141Z",
     "shell.execute_reply": "2023-10-26T03:04:29.046046Z",
     "shell.execute_reply.started": "2023-10-26T03:04:29.030694Z"
    }
   },
   "outputs": [
    {
     "name": "stdout",
     "output_type": "stream",
     "text": [
      "/kaggle/input/cs770-assignment-2a/sample_submission.csv\n",
      "/kaggle/input/cs770-assignment-2a/train_data.csv\n",
      "/kaggle/input/cs770-assignment-2a/test_data.csv\n"
     ]
    }
   ],
   "source": [
    "# This Python 3 environment comes with many helpful analytics libraries installed\n",
    "# It is defined by the kaggle/python Docker image: https://github.com/kaggle/docker-python\n",
    "# For example, here's several helpful packages to load\n",
    "\n",
    "import numpy as np # linear algebra\n",
    "import pandas as pd # data processing, CSV file I/O (e.g. pd.read_csv)\n",
    "\n",
    "# Input data files are available in the read-only \"../input/\" directory\n",
    "# For example, running this (by clicking run or pressing Shift+Enter) will list all files under the input directory\n",
    "\n",
    "import os\n",
    "for dirname, _, filenames in os.walk('/kaggle/input'):\n",
    "    for filename in filenames:\n",
    "        print(os.path.join(dirname, filename))\n",
    "\n",
    "# You can write up to 20GB to the current directory (/kaggle/working/) that gets preserved as output when you create a version using \"Save & Run All\" \n",
    "# You can also write temporary files to /kaggle/temp/, but they won't be saved outside of the current session"
   ]
  },
  {
   "cell_type": "code",
   "execution_count": 71,
   "metadata": {
    "execution": {
     "iopub.execute_input": "2023-10-26T02:09:07.900804Z",
     "iopub.status.busy": "2023-10-26T02:09:07.900161Z",
     "iopub.status.idle": "2023-10-26T02:09:07.904651Z",
     "shell.execute_reply": "2023-10-26T02:09:07.903860Z",
     "shell.execute_reply.started": "2023-10-26T02:09:07.900773Z"
    }
   },
   "outputs": [],
   "source": [
    "# Name: Shriya Reddy Ponnala"
   ]
  },
  {
   "cell_type": "code",
   "execution_count": 108,
   "metadata": {
    "execution": {
     "iopub.execute_input": "2023-10-26T03:04:39.837417Z",
     "iopub.status.busy": "2023-10-26T03:04:39.836196Z",
     "iopub.status.idle": "2023-10-26T03:04:39.853325Z",
     "shell.execute_reply": "2023-10-26T03:04:39.851552Z",
     "shell.execute_reply.started": "2023-10-26T03:04:39.837366Z"
    }
   },
   "outputs": [
    {
     "data": {
      "text/html": [
       "<div>\n",
       "<style scoped>\n",
       "    .dataframe tbody tr th:only-of-type {\n",
       "        vertical-align: middle;\n",
       "    }\n",
       "\n",
       "    .dataframe tbody tr th {\n",
       "        vertical-align: top;\n",
       "    }\n",
       "\n",
       "    .dataframe thead th {\n",
       "        text-align: right;\n",
       "    }\n",
       "</style>\n",
       "<table border=\"1\" class=\"dataframe\">\n",
       "  <thead>\n",
       "    <tr style=\"text-align: right;\">\n",
       "      <th></th>\n",
       "      <th>Index</th>\n",
       "      <th>Gender</th>\n",
       "      <th>Age</th>\n",
       "      <th>Salary</th>\n",
       "      <th>Purchase Iphone</th>\n",
       "    </tr>\n",
       "  </thead>\n",
       "  <tbody>\n",
       "    <tr>\n",
       "      <th>0</th>\n",
       "      <td>1</td>\n",
       "      <td>0</td>\n",
       "      <td>28</td>\n",
       "      <td>87000</td>\n",
       "      <td>0</td>\n",
       "    </tr>\n",
       "    <tr>\n",
       "      <th>1</th>\n",
       "      <td>2</td>\n",
       "      <td>0</td>\n",
       "      <td>57</td>\n",
       "      <td>33000</td>\n",
       "      <td>1</td>\n",
       "    </tr>\n",
       "    <tr>\n",
       "      <th>2</th>\n",
       "      <td>3</td>\n",
       "      <td>1</td>\n",
       "      <td>35</td>\n",
       "      <td>73000</td>\n",
       "      <td>0</td>\n",
       "    </tr>\n",
       "    <tr>\n",
       "      <th>3</th>\n",
       "      <td>4</td>\n",
       "      <td>0</td>\n",
       "      <td>48</td>\n",
       "      <td>29000</td>\n",
       "      <td>1</td>\n",
       "    </tr>\n",
       "    <tr>\n",
       "      <th>4</th>\n",
       "      <td>5</td>\n",
       "      <td>1</td>\n",
       "      <td>32</td>\n",
       "      <td>100000</td>\n",
       "      <td>1</td>\n",
       "    </tr>\n",
       "  </tbody>\n",
       "</table>\n",
       "</div>"
      ],
      "text/plain": [
       "   Index  Gender  Age  Salary  Purchase Iphone\n",
       "0      1       0   28   87000                0\n",
       "1      2       0   57   33000                1\n",
       "2      3       1   35   73000                0\n",
       "3      4       0   48   29000                1\n",
       "4      5       1   32  100000                1"
      ]
     },
     "execution_count": 108,
     "metadata": {},
     "output_type": "execute_result"
    }
   ],
   "source": [
    "import pandas as pd\n",
    "from sklearn.tree import DecisionTreeClassifier\n",
    "from sklearn.model_selection import GridSearchCV,train_test_split\n",
    "from sklearn.metrics import accuracy_score,f1_score, roc_auc_score,classification_report,confusion_matrix\n",
    "\n",
    "# Loading the dataset\n",
    "df = pd.read_csv('/kaggle/input/cs770-assignment-2a/train_data.csv')\n",
    "\n",
    "# Display the first five rows of the dataset\n",
    "df.head()"
   ]
  },
  {
   "cell_type": "code",
   "execution_count": 109,
   "metadata": {
    "execution": {
     "iopub.execute_input": "2023-10-26T03:04:44.074280Z",
     "iopub.status.busy": "2023-10-26T03:04:44.073643Z",
     "iopub.status.idle": "2023-10-26T03:04:44.080892Z",
     "shell.execute_reply": "2023-10-26T03:04:44.079630Z",
     "shell.execute_reply.started": "2023-10-26T03:04:44.074249Z"
    }
   },
   "outputs": [
    {
     "name": "stdout",
     "output_type": "stream",
     "text": [
      "Index              0\n",
      "Gender             0\n",
      "Age                0\n",
      "Salary             0\n",
      "Purchase Iphone    0\n",
      "dtype: int64\n"
     ]
    }
   ],
   "source": [
    "#check if we have any  missing values or not \n",
    "#we don't have any missing values in this case\n",
    "missing_values = df.isnull().sum()\n",
    "print(missing_values)"
   ]
  },
  {
   "cell_type": "code",
   "execution_count": 110,
   "metadata": {
    "execution": {
     "iopub.execute_input": "2023-10-26T03:04:47.693098Z",
     "iopub.status.busy": "2023-10-26T03:04:47.691884Z",
     "iopub.status.idle": "2023-10-26T03:04:50.771879Z",
     "shell.execute_reply": "2023-10-26T03:04:50.770255Z",
     "shell.execute_reply.started": "2023-10-26T03:04:47.693055Z"
    }
   },
   "outputs": [
    {
     "name": "stdout",
     "output_type": "stream",
     "text": [
      "Best hyperparameters are: {'criterion': 'entropy', 'max_depth': 5, 'min_samples_leaf': 4, 'min_samples_split': 3}\n"
     ]
    }
   ],
   "source": [
    "#Splitting the dataset into features and targets \n",
    "X = df[['Gender', 'Age', 'Salary']]\n",
    "y = df['Purchase Iphone']\n",
    "\n",
    "#Seperating the dataset into a training(80%) set and a validation(20%) set \n",
    "#random_state to demonstrate that the split is repeatable.\n",
    "X_train_set, X_val_set, y_train_set, y_val_set = train_test_split(X, y, test_size=0.2, random_state=42)\n",
    "\n",
    "#Numerical mapping of gender data\n",
    "df['Gender'] = df['Gender'].map({'Female': 0, 'Male': 1})\n",
    "\n",
    "#Creating a Decision Tree Model with Hyperparameter Tuning\n",
    "#Hyperparameters can be found in gd_param.\n",
    "dtm_classifier = DecisionTreeClassifier()\n",
    "gd_param = {\n",
    "    'criterion': ['gini', 'entropy'],\n",
    "    'max_depth': [5,6,7,8,9],\n",
    "    'min_samples_split': [3,4,5,8],\n",
    "    'min_samples_leaf': [2,3,4,5]\n",
    "}\n",
    "\n",
    "#To identify the best hyperparameters, use GridSearchCV.\n",
    "grid_search = GridSearchCV(dtm_classifier, gd_param, cv=5)\n",
    "grid_search.fit(X_train_set, y_train_set)\n",
    "\n",
    "#Display the best hyperparameters\n",
    "best_params = grid_search.best_params_\n",
    "print(\"Best hyperparameters are:\",best_params)\n"
   ]
  },
  {
   "cell_type": "code",
   "execution_count": 111,
   "metadata": {
    "execution": {
     "iopub.execute_input": "2023-10-26T03:04:57.382716Z",
     "iopub.status.busy": "2023-10-26T03:04:57.382372Z",
     "iopub.status.idle": "2023-10-26T03:04:57.395483Z",
     "shell.execute_reply": "2023-10-26T03:04:57.393652Z",
     "shell.execute_reply.started": "2023-10-26T03:04:57.382692Z"
    }
   },
   "outputs": [
    {
     "data": {
      "text/html": [
       "<style>#sk-container-id-4 {color: black;background-color: white;}#sk-container-id-4 pre{padding: 0;}#sk-container-id-4 div.sk-toggleable {background-color: white;}#sk-container-id-4 label.sk-toggleable__label {cursor: pointer;display: block;width: 100%;margin-bottom: 0;padding: 0.3em;box-sizing: border-box;text-align: center;}#sk-container-id-4 label.sk-toggleable__label-arrow:before {content: \"▸\";float: left;margin-right: 0.25em;color: #696969;}#sk-container-id-4 label.sk-toggleable__label-arrow:hover:before {color: black;}#sk-container-id-4 div.sk-estimator:hover label.sk-toggleable__label-arrow:before {color: black;}#sk-container-id-4 div.sk-toggleable__content {max-height: 0;max-width: 0;overflow: hidden;text-align: left;background-color: #f0f8ff;}#sk-container-id-4 div.sk-toggleable__content pre {margin: 0.2em;color: black;border-radius: 0.25em;background-color: #f0f8ff;}#sk-container-id-4 input.sk-toggleable__control:checked~div.sk-toggleable__content {max-height: 200px;max-width: 100%;overflow: auto;}#sk-container-id-4 input.sk-toggleable__control:checked~label.sk-toggleable__label-arrow:before {content: \"▾\";}#sk-container-id-4 div.sk-estimator input.sk-toggleable__control:checked~label.sk-toggleable__label {background-color: #d4ebff;}#sk-container-id-4 div.sk-label input.sk-toggleable__control:checked~label.sk-toggleable__label {background-color: #d4ebff;}#sk-container-id-4 input.sk-hidden--visually {border: 0;clip: rect(1px 1px 1px 1px);clip: rect(1px, 1px, 1px, 1px);height: 1px;margin: -1px;overflow: hidden;padding: 0;position: absolute;width: 1px;}#sk-container-id-4 div.sk-estimator {font-family: monospace;background-color: #f0f8ff;border: 1px dotted black;border-radius: 0.25em;box-sizing: border-box;margin-bottom: 0.5em;}#sk-container-id-4 div.sk-estimator:hover {background-color: #d4ebff;}#sk-container-id-4 div.sk-parallel-item::after {content: \"\";width: 100%;border-bottom: 1px solid gray;flex-grow: 1;}#sk-container-id-4 div.sk-label:hover label.sk-toggleable__label {background-color: #d4ebff;}#sk-container-id-4 div.sk-serial::before {content: \"\";position: absolute;border-left: 1px solid gray;box-sizing: border-box;top: 0;bottom: 0;left: 50%;z-index: 0;}#sk-container-id-4 div.sk-serial {display: flex;flex-direction: column;align-items: center;background-color: white;padding-right: 0.2em;padding-left: 0.2em;position: relative;}#sk-container-id-4 div.sk-item {position: relative;z-index: 1;}#sk-container-id-4 div.sk-parallel {display: flex;align-items: stretch;justify-content: center;background-color: white;position: relative;}#sk-container-id-4 div.sk-item::before, #sk-container-id-4 div.sk-parallel-item::before {content: \"\";position: absolute;border-left: 1px solid gray;box-sizing: border-box;top: 0;bottom: 0;left: 50%;z-index: -1;}#sk-container-id-4 div.sk-parallel-item {display: flex;flex-direction: column;z-index: 1;position: relative;background-color: white;}#sk-container-id-4 div.sk-parallel-item:first-child::after {align-self: flex-end;width: 50%;}#sk-container-id-4 div.sk-parallel-item:last-child::after {align-self: flex-start;width: 50%;}#sk-container-id-4 div.sk-parallel-item:only-child::after {width: 0;}#sk-container-id-4 div.sk-dashed-wrapped {border: 1px dashed gray;margin: 0 0.4em 0.5em 0.4em;box-sizing: border-box;padding-bottom: 0.4em;background-color: white;}#sk-container-id-4 div.sk-label label {font-family: monospace;font-weight: bold;display: inline-block;line-height: 1.2em;}#sk-container-id-4 div.sk-label-container {text-align: center;}#sk-container-id-4 div.sk-container {/* jupyter's `normalize.less` sets `[hidden] { display: none; }` but bootstrap.min.css set `[hidden] { display: none !important; }` so we also need the `!important` here to be able to override the default hidden behavior on the sphinx rendered scikit-learn.org. See: https://github.com/scikit-learn/scikit-learn/issues/21755 */display: inline-block !important;position: relative;}#sk-container-id-4 div.sk-text-repr-fallback {display: none;}</style><div id=\"sk-container-id-4\" class=\"sk-top-container\"><div class=\"sk-text-repr-fallback\"><pre>DecisionTreeClassifier(criterion=&#x27;entropy&#x27;, max_depth=5, min_samples_leaf=4,\n",
       "                       min_samples_split=3)</pre><b>In a Jupyter environment, please rerun this cell to show the HTML representation or trust the notebook. <br />On GitHub, the HTML representation is unable to render, please try loading this page with nbviewer.org.</b></div><div class=\"sk-container\" hidden><div class=\"sk-item\"><div class=\"sk-estimator sk-toggleable\"><input class=\"sk-toggleable__control sk-hidden--visually\" id=\"sk-estimator-id-4\" type=\"checkbox\" checked><label for=\"sk-estimator-id-4\" class=\"sk-toggleable__label sk-toggleable__label-arrow\">DecisionTreeClassifier</label><div class=\"sk-toggleable__content\"><pre>DecisionTreeClassifier(criterion=&#x27;entropy&#x27;, max_depth=5, min_samples_leaf=4,\n",
       "                       min_samples_split=3)</pre></div></div></div></div></div>"
      ],
      "text/plain": [
       "DecisionTreeClassifier(criterion='entropy', max_depth=5, min_samples_leaf=4,\n",
       "                       min_samples_split=3)"
      ]
     },
     "execution_count": 111,
     "metadata": {},
     "output_type": "execute_result"
    }
   ],
   "source": [
    "#Create the DecisionTreeClassifier using the best hyperparameters and Utilize the training data to train the Decision Tree model.\n",
    "best_dtm_classifier = DecisionTreeClassifier(**best_params)\n",
    "best_dtm_classifier.fit(X_train_set, y_train_set)"
   ]
  },
  {
   "cell_type": "code",
   "execution_count": 112,
   "metadata": {
    "execution": {
     "iopub.execute_input": "2023-10-26T03:05:03.590940Z",
     "iopub.status.busy": "2023-10-26T03:05:03.590546Z",
     "iopub.status.idle": "2023-10-26T03:05:03.611120Z",
     "shell.execute_reply": "2023-10-26T03:05:03.610201Z",
     "shell.execute_reply.started": "2023-10-26T03:05:03.590908Z"
    }
   },
   "outputs": [
    {
     "name": "stdout",
     "output_type": "stream",
     "text": [
      "Accuracy: 0.8833333333333333\n",
      "F1 Score: 0.8205128205128205\n",
      "AUC-ROC: 0.8504784688995216\n",
      "Classification Report:\n",
      "               precision    recall  f1-score   support\n",
      "\n",
      "           0       0.86      0.97      0.91        38\n",
      "           1       0.94      0.73      0.82        22\n",
      "\n",
      "    accuracy                           0.88        60\n",
      "   macro avg       0.90      0.85      0.87        60\n",
      "weighted avg       0.89      0.88      0.88        60\n",
      "\n",
      "Confusion Matrix:\n",
      " [[37  1]\n",
      " [ 6 16]]\n"
     ]
    }
   ],
   "source": [
    "#This demonstrates how well my model is doing and reporting its performance -> accuracy.\n",
    "y_prediction = best_dtm_classifier.predict(X_val_set)\n",
    "print(\"Accuracy:\", accuracy_score(y_val_set, y_prediction))\n",
    "print(\"F1 Score:\", f1_score(y_val_set, y_prediction))\n",
    "print(\"AUC-ROC:\", roc_auc_score(y_val_set, y_prediction))\n",
    "print('Classification Report:\\n', classification_report(y_val_set, y_prediction))\n",
    "print('Confusion Matrix:\\n', confusion_matrix(y_val_set, y_prediction))\n"
   ]
  },
  {
   "cell_type": "code",
   "execution_count": 113,
   "metadata": {
    "execution": {
     "iopub.execute_input": "2023-10-26T03:05:16.681989Z",
     "iopub.status.busy": "2023-10-26T03:05:16.681609Z",
     "iopub.status.idle": "2023-10-26T03:05:16.695111Z",
     "shell.execute_reply": "2023-10-26T03:05:16.693657Z",
     "shell.execute_reply.started": "2023-10-26T03:05:16.681960Z"
    }
   },
   "outputs": [
    {
     "name": "stdout",
     "output_type": "stream",
     "text": [
      "Index     0\n",
      "Gender    0\n",
      "Age       0\n",
      "Salary    0\n",
      "dtype: int64\n"
     ]
    }
   ],
   "source": [
    "# Loading the test dataset from test_data file\n",
    "test_data = pd.read_csv('/kaggle/input/cs770-assignment-2a/test_data.csv')\n",
    "\n",
    "##check if we have any  missing values in test data file\n",
    "missing_values = test_data.isnull().sum()\n",
    "print(missing_values)\n"
   ]
  },
  {
   "cell_type": "code",
   "execution_count": 114,
   "metadata": {
    "execution": {
     "iopub.execute_input": "2023-10-26T03:05:21.226275Z",
     "iopub.status.busy": "2023-10-26T03:05:21.225213Z",
     "iopub.status.idle": "2023-10-26T03:05:21.235935Z",
     "shell.execute_reply": "2023-10-26T03:05:21.234888Z",
     "shell.execute_reply.started": "2023-10-26T03:05:21.226228Z"
    }
   },
   "outputs": [],
   "source": [
    "#Creating test features by selecting certain columns from the test dataset ('Gender,' 'Age,' and 'Salary').\n",
    "test_features = test_data[['Gender', 'Age', 'Salary']]\n",
    "#Making predictions on the test features using the best decision tree classifier\n",
    "test_predict = best_dtm_classifier.predict(test_features)\n",
    "# Creating a DataFrame for test predictions with 'Index' and 'Purchase Iphone' columns\n",
    "test_df_predict = pd.DataFrame({'Index': test_data['Index'], 'Purchase Iphone': test_predict})\n",
    "# Save the modified sample submission to a CSV file\n",
    "test_df_predict.to_csv('/kaggle/working/submission.csv', index=False)"
   ]
  },
  {
   "cell_type": "code",
   "execution_count": 115,
   "metadata": {
    "execution": {
     "iopub.execute_input": "2023-10-26T03:12:49.201354Z",
     "iopub.status.busy": "2023-10-26T03:12:49.200900Z",
     "iopub.status.idle": "2023-10-26T03:12:49.207513Z",
     "shell.execute_reply": "2023-10-26T03:12:49.206250Z",
     "shell.execute_reply.started": "2023-10-26T03:12:49.201322Z"
    }
   },
   "outputs": [],
   "source": [
    "#Explanation:--\n",
    "\n",
    "#1.We divided the training dataset in an 80:20 ratio into a training set and a validation set. This enabled us to train our model on one set of data and then test it on another to evaluate its performance.\n",
    "\n",
    "# We built a Decision Tree classifier and used GridSearchCV to find the model's best hyperparameters. This stage entailed creating hyperparameter grids and searching for the best combination.\n",
    "\n",
    "#We used metrics like accuracy, F1-score, AUC-ROCand a confusion matrix to assess the model's performance on the validation set. This stage revealed information on how well the model was performing.\n",
    "\n",
    "# We utilized the trained model to generate predictions on the test dataset, which we saved to the 'submission' CSV file.\n",
    "\n",
    "#The accuracy of my model is 0.88 (88%), which means that it properly predicted the iPhone purchase choice for 88% of the test data samples."
   ]
  }
 ],
 "metadata": {
  "kernelspec": {
   "display_name": "Python 3 (ipykernel)",
   "language": "python",
   "name": "python3"
  },
  "language_info": {
   "codemirror_mode": {
    "name": "ipython",
    "version": 3
   },
   "file_extension": ".py",
   "mimetype": "text/x-python",
   "name": "python",
   "nbconvert_exporter": "python",
   "pygments_lexer": "ipython3",
   "version": "3.11.4"
  }
 },
 "nbformat": 4,
 "nbformat_minor": 4
}
